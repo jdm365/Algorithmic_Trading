{
 "cells": [
  {
   "cell_type": "code",
   "execution_count": 2,
   "id": "a0f86fdf",
   "metadata": {},
   "outputs": [],
   "source": [
    "import torch as T\n",
    "import torch.nn as nn\n",
    "import torch.nn.functional as F\n",
    "import numpy as np"
   ]
  },
  {
   "cell_type": "code",
   "execution_count": 59,
   "id": "d3408854",
   "metadata": {},
   "outputs": [],
   "source": [
    "X = T.rand(size=(12, 1000, 1))\n",
    "output, hidden_state = nn.GRU(X.shape[0], 256)(X.permute(1, 2, 0).contiguous())"
   ]
  },
  {
   "cell_type": "code",
   "execution_count": 58,
   "id": "0e13f67e",
   "metadata": {},
   "outputs": [
    {
     "data": {
      "text/plain": [
       "torch.Size([1000, 1, 256])"
      ]
     },
     "execution_count": 58,
     "metadata": {},
     "output_type": "execute_result"
    }
   ],
   "source": [
    "nn.Parameter((T.zeros(size=(1, 1)))"
   ]
  }
 ],
 "metadata": {
  "kernelspec": {
   "display_name": "Python 3 (ipykernel)",
   "language": "python",
   "name": "python3"
  },
  "language_info": {
   "codemirror_mode": {
    "name": "ipython",
    "version": 3
   },
   "file_extension": ".py",
   "mimetype": "text/x-python",
   "name": "python",
   "nbconvert_exporter": "python",
   "pygments_lexer": "ipython3",
   "version": "3.8.12"
  }
 },
 "nbformat": 4,
 "nbformat_minor": 5
}
