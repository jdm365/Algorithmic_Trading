{
 "cells": [
  {
   "cell_type": "code",
   "execution_count": 7,
   "id": "850670e0",
   "metadata": {},
   "outputs": [],
   "source": [
    "import pandas as pd\n",
    "import json\n",
    "import os\n",
    "import sys"
   ]
  },
  {
   "cell_type": "code",
   "execution_count": 8,
   "id": "4b017279",
   "metadata": {},
   "outputs": [],
   "source": [
    "def get_feature_set(feature_set):\n",
    "    with open(f'models/data_files/features.json', 'r') as f:\n",
    "        feature_metadata = json.load(f)\n",
    "    extra_features = ['era', 'data_type', f'target_nomi_v4_20']\n",
    "    if feature_set == 'all':\n",
    "        return (list(feature_metadata['features_stats'].keys()), extra_features)\n",
    "    return (feature_metadata['feature_sets'][feature_set], extra_features) "
   ]
  },
  {
   "cell_type": "code",
   "execution_count": 9,
   "id": "97fa0c80",
   "metadata": {},
   "outputs": [],
   "source": [
    "#df = pd.read_parquet('data_files/train.parquet')\n",
    "features = get_feature_set('medium')"
   ]
  },
  {
   "cell_type": "code",
   "execution_count": 13,
   "id": "cfca67d0",
   "metadata": {},
   "outputs": [
    {
     "data": {
      "text/plain": [
       "472"
      ]
     },
     "execution_count": 13,
     "metadata": {},
     "output_type": "execute_result"
    }
   ],
   "source": [
    "medium = features[0]\n",
    "len(medium)"
   ]
  },
  {
   "cell_type": "code",
   "execution_count": 8,
   "id": "d528d5e3",
   "metadata": {},
   "outputs": [
    {
     "data": {
      "text/plain": [
       "12.0"
      ]
     },
     "execution_count": 8,
     "metadata": {},
     "output_type": "execute_result"
    }
   ],
   "source": [
    "len(pd.unique(df.era))"
   ]
  }
 ],
 "metadata": {
  "kernelspec": {
   "display_name": "Python 3",
   "language": "python",
   "name": "python3"
  },
  "language_info": {
   "codemirror_mode": {
    "name": "ipython",
    "version": 3
   },
   "file_extension": ".py",
   "mimetype": "text/x-python",
   "name": "python",
   "nbconvert_exporter": "python",
   "pygments_lexer": "ipython3",
   "version": "3.9.7"
  }
 },
 "nbformat": 4,
 "nbformat_minor": 5
}
