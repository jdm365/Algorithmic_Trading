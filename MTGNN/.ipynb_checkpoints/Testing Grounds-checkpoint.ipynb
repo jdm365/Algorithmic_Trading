{
 "cells": [
  {
   "cell_type": "code",
   "execution_count": 1,
   "id": "a0f86fdf",
   "metadata": {},
   "outputs": [],
   "source": [
    "import torch as T\n",
    "import torch.nn as nn\n",
    "import torch.nn.functional as F\n",
    "import numpy as np\n",
    "import pandas as pd\n",
    "import os\n",
    "from datetime import datetime"
   ]
  },
  {
   "cell_type": "code",
   "execution_count": 59,
   "id": "d3408854",
   "metadata": {},
   "outputs": [],
   "source": [
    "X = T.rand(size=(12, 1000, 1))\n",
    "output, hidden_state = nn.GRU(X.shape[0], 256)(X.permute(1, 2, 0).contiguous())"
   ]
  },
  {
   "cell_type": "code",
   "execution_count": 58,
   "id": "0e13f67e",
   "metadata": {},
   "outputs": [
    {
     "data": {
      "text/plain": [
       "torch.Size([1000, 1, 256])"
      ]
     },
     "execution_count": 58,
     "metadata": {},
     "output_type": "execute_result"
    }
   ],
   "source": [
    "nn.Parameter((T.zeros(size=(1, 1)))"
   ]
  },
  {
   "cell_type": "code",
   "execution_count": 20,
   "id": "1124b153",
   "metadata": {},
   "outputs": [
    {
     "data": {
      "text/plain": [
       "torch.Size([12, 12])"
      ]
     },
     "execution_count": 20,
     "metadata": {},
     "output_type": "execute_result"
    }
   ],
   "source": [
    "x = T.rand((12, 12))\n",
    "x = T.tensor([i if i >= .12 else 0 for i in T.flatten(x)]).reshape(x.shape)\n",
    "x.shape"
   ]
  },
  {
   "cell_type": "code",
   "execution_count": 23,
   "id": "ef1fe475",
   "metadata": {},
   "outputs": [
    {
     "data": {
      "text/plain": [
       "tensor([5.0771, 4.5079, 4.5604, 5.0516, 6.0807, 5.7380, 7.2921, 6.9615, 5.3979,\n",
       "        5.8541, 5.8715, 6.9066])"
      ]
     },
     "execution_count": 23,
     "metadata": {},
     "output_type": "execute_result"
    }
   ],
   "source": [
    "x.sum(-1)"
   ]
  },
  {
   "cell_type": "code",
   "execution_count": 37,
   "id": "c01678e7",
   "metadata": {},
   "outputs": [
    {
     "data": {
      "text/plain": [
       "(5, 2)"
      ]
     },
     "execution_count": 37,
     "metadata": {},
     "output_type": "execute_result"
    }
   ],
   "source": [
    "tuple([5,2])[:2]"
   ]
  },
  {
   "cell_type": "code",
   "execution_count": 44,
   "id": "08a70eeb",
   "metadata": {},
   "outputs": [],
   "source": [
    "PATH = '/Users/jakemehlman/Desktop/Minute_Data_v1/'\n",
    "DF = pd.read_csv(PATH + 'AAPL.USUSD_Candlestick_1_M_ASK_02.11.2017-01.01.2020.csv')\n",
    "DF2 = pd.read_csv(PATH + 'AMZN.USUSD_Candlestick_1_M_ASK_02.11.2017-01.01.2020.csv')"
   ]
  },
  {
   "cell_type": "code",
   "execution_count": 3,
   "id": "b4166ce4",
   "metadata": {},
   "outputs": [
    {
     "ename": "SyntaxError",
     "evalue": "invalid syntax (2764433996.py, line 11)",
     "output_type": "error",
     "traceback": [
      "\u001b[0;36m  File \u001b[0;32m\"/var/folders/tk/htw5_qg12bl3mp88zgy61ncw0000gn/T/ipykernel_12345/2764433996.py\"\u001b[0;36m, line \u001b[0;32m11\u001b[0m\n\u001b[0;31m    Z = T.cat((Z, T.zeros(self.n_nodes, self.n_features, 1), dim=-1)\u001b[0m\n\u001b[0m                                                                ^\u001b[0m\n\u001b[0;31mSyntaxError\u001b[0m\u001b[0;31m:\u001b[0m invalid syntax\n"
     ]
    }
   ],
   "source": [
    "dilation_factor = 2\n",
    "INPUT = T.randn(23, 64, 1)\n",
    "for t in range(63):\n",
    "    if t % dilation_factor == 0:\n",
    "        try:\n",
    "            Z = T.cat((Z, self.conv(INPUT, time_features, 63 - t)), dim=-1)\n",
    "        except UnboundLocalError:\n",
    "            Z = self.conv(INPUT, time_features, t)\n",
    "    else:\n",
    "        try:\n",
    "            Z = T.cat(Z, T.zeros(self.n_nodes, self.n_features, 1), dim=-1)\n",
    "        except UnboundLocalError:\n",
    "            Z = T.zeros(self.n_nodes, self.n_features, 1)\n",
    "Z"
   ]
  },
  {
   "cell_type": "code",
   "execution_count": 180,
   "id": "16e8301c",
   "metadata": {},
   "outputs": [],
   "source": [
    "PATH = '/Users/jakemehlman/Desktop/Minute_Data_v1/'\n",
    "def make_DF(PATH):\n",
    "    DFNEW = pd.DataFrame()\n",
    "    for filename in os.listdir(PATH):\n",
    "        DF = pd.read_csv(PATH + filename)\n",
    "        DF = DF[['Local time', 'High', 'Low', 'Close', 'Volume']]\n",
    "        try:\n",
    "            DFNEW = DFNEW.merge(DF, left_on='Local time', right_on='Local time')\n",
    "        except:\n",
    "            DFNEW = DF\n",
    "    DFNEW = DFNEW.replace(0, 1)\n",
    "    return DFNEW\n",
    "\n",
    "def make_global_tensor_no_time(df):\n",
    "    arr = np.array(df)[:, 1:] # (time, features)\n",
    "    Arr = np.array(arr[1:, :] / arr[:-1, :]).astype(float)\n",
    "    X = T.ones((Arr.shape[-1] // 4, 4, Arr.shape[0]))\n",
    "    for i in range(arr.shape[-1]):\n",
    "        j = i // 4\n",
    "        k = i % 4\n",
    "        X[j, k, :] = T.tensor(Arr[:, i])\n",
    "    return X\n",
    "\n",
    "\n",
    "def make_global_temporal_tensor(df):\n",
    "    arr = np.array(df)[:, 0]\n",
    "    M = T.zeros((arr.shape[0], 36))\n",
    "    for i in range(1, arr.shape[0]):\n",
    "        base = arr[i]\n",
    "\n",
    "        half_hour = T.tensor(2 * (int(base[11:13]) - 9) + (int(base[14:16]) >= 30))\n",
    "        day = T.tensor(datetime.strptime(base[:10].replace('.', ' '), '%d %m %Y').isoweekday())\n",
    "        week = T.tensor(abs(int(base[:2]) - 4) // 7)\n",
    "        month = T.tensor(int(base[3:5]))\n",
    "\n",
    "        half_hour = F.one_hot(half_hour-1, 15)\n",
    "        day = F.one_hot(day-1, 5)\n",
    "        week = F.one_hot(week, 4)\n",
    "        month = F.one_hot(month-1, 12)\n",
    "        M[i, :] = T.cat((half_hour, day, week, month))\n",
    "    return M[1:, :]"
   ]
  },
  {
   "cell_type": "code",
   "execution_count": 177,
   "id": "c628627c",
   "metadata": {},
   "outputs": [],
   "source": []
  },
  {
   "cell_type": "code",
   "execution_count": 50,
   "id": "2dd71625",
   "metadata": {},
   "outputs": [
    {
     "name": "stdout",
     "output_type": "stream",
     "text": [
      "torch.Size([4, 23])\n"
     ]
    }
   ],
   "source": [
    "HS = T.randn(4, 23, 64)\n",
    "v = T.ones(64, 1)\n",
    "op = nn.Linear(64, 64)\n",
    "Z = T.zeros(1, 23)\n",
    "alpha = T.zeros(4, 23)\n",
    "for layer in range(HS.shape[0]):\n",
    "    s = T.mm(T.transpose(v, 0, 1), T.transpose(T.tanh(op(HS[layer, :, :])), 0, 1))\n",
    "    Z += T.exp(s)\n",
    "    alpha[layer, :] = T.exp(s)\n",
    "alpha = alpha / Z\n",
    "print(alpha.shape)"
   ]
  },
  {
   "cell_type": "code",
   "execution_count": 59,
   "id": "b65a2654",
   "metadata": {},
   "outputs": [
    {
     "data": {
      "text/plain": [
       "torch.Size([23, 64])"
      ]
     },
     "execution_count": 59,
     "metadata": {},
     "output_type": "execute_result"
    }
   ],
   "source": [
    "T.sum(T.mul(HS, alpha.reshape(4, 23, 1)), dim=0).shape"
   ]
  },
  {
   "cell_type": "code",
   "execution_count": null,
   "id": "ab17fdac",
   "metadata": {},
   "outputs": [],
   "source": []
  },
  {
   "cell_type": "code",
   "execution_count": null,
   "id": "9261c3f3",
   "metadata": {},
   "outputs": [],
   "source": []
  },
  {
   "cell_type": "code",
   "execution_count": null,
   "id": "49701800",
   "metadata": {},
   "outputs": [],
   "source": []
  },
  {
   "cell_type": "code",
   "execution_count": null,
   "id": "1e678b21",
   "metadata": {},
   "outputs": [],
   "source": []
  },
  {
   "cell_type": "code",
   "execution_count": null,
   "id": "28ddb13e",
   "metadata": {},
   "outputs": [],
   "source": []
  },
  {
   "cell_type": "code",
   "execution_count": null,
   "id": "0c0ad938",
   "metadata": {},
   "outputs": [],
   "source": []
  },
  {
   "cell_type": "code",
   "execution_count": null,
   "id": "25679e5a",
   "metadata": {},
   "outputs": [],
   "source": []
  },
  {
   "cell_type": "code",
   "execution_count": null,
   "id": "a67946dd",
   "metadata": {},
   "outputs": [],
   "source": []
  },
  {
   "cell_type": "code",
   "execution_count": null,
   "id": "7290a05b",
   "metadata": {},
   "outputs": [],
   "source": []
  },
  {
   "cell_type": "code",
   "execution_count": null,
   "id": "6a2ca934",
   "metadata": {},
   "outputs": [],
   "source": []
  },
  {
   "cell_type": "code",
   "execution_count": 148,
   "id": "9b224c30",
   "metadata": {},
   "outputs": [
    {
     "data": {
      "text/plain": [
       "4"
      ]
     },
     "execution_count": 148,
     "metadata": {},
     "output_type": "execute_result"
    }
   ],
   "source": [
    "X.shape\n",
    "datetime.strptime(arr[0][:10].replace('.', ' '), '%d %m %Y').isoweekday()"
   ]
  },
  {
   "cell_type": "code",
   "execution_count": null,
   "id": "1ed7b02a",
   "metadata": {},
   "outputs": [],
   "source": [
    "def one_hot_encoding(string):\n",
    "    ###\n",
    "    # string: string - original timestamp\n",
    "    \n",
    "    # output: array - one hot encoded time - (half hour of trading day, day of week, week of month, month of year) dim-15+5+4+12=36\n",
    "    \n",
    "    return output"
   ]
  },
  {
   "cell_type": "code",
   "execution_count": 109,
   "id": "2902c6b0",
   "metadata": {},
   "outputs": [
    {
     "data": {
      "text/plain": [
       "array([137749.9998, 98353.9969, 126066.9976, 127960.9948, 27499.9999],\n",
       "      dtype=object)"
      ]
     },
     "execution_count": 109,
     "metadata": {},
     "output_type": "execute_result"
    }
   ],
   "source": [
    "arr[:5, 4]\n",
    "#DFNEW.head(10)"
   ]
  }
 ],
 "metadata": {
  "kernelspec": {
   "display_name": "Python 3 (ipykernel)",
   "language": "python",
   "name": "python3"
  },
  "language_info": {
   "codemirror_mode": {
    "name": "ipython",
    "version": 3
   },
   "file_extension": ".py",
   "mimetype": "text/x-python",
   "name": "python",
   "nbconvert_exporter": "python",
   "pygments_lexer": "ipython3",
   "version": "3.8.12"
  }
 },
 "nbformat": 4,
 "nbformat_minor": 5
}
