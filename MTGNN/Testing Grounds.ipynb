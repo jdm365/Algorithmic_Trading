{
 "cells": [
  {
   "cell_type": "code",
   "execution_count": 5,
   "id": "a0f86fdf",
   "metadata": {},
   "outputs": [],
   "source": [
    "import torch as T\n",
    "import torch.nn as nn\n",
    "import torch.nn.functional as F\n",
    "import numpy as np"
   ]
  },
  {
   "cell_type": "code",
   "execution_count": 59,
   "id": "d3408854",
   "metadata": {},
   "outputs": [],
   "source": [
    "X = T.rand(size=(12, 1000, 1))\n",
    "output, hidden_state = nn.GRU(X.shape[0], 256)(X.permute(1, 2, 0).contiguous())"
   ]
  },
  {
   "cell_type": "code",
   "execution_count": 58,
   "id": "0e13f67e",
   "metadata": {},
   "outputs": [
    {
     "data": {
      "text/plain": [
       "torch.Size([1000, 1, 256])"
      ]
     },
     "execution_count": 58,
     "metadata": {},
     "output_type": "execute_result"
    }
   ],
   "source": [
    "nn.Parameter((T.zeros(size=(1, 1)))"
   ]
  },
  {
   "cell_type": "code",
   "execution_count": 20,
   "id": "5c243142",
   "metadata": {},
   "outputs": [
    {
     "data": {
      "text/plain": [
       "torch.Size([12, 12])"
      ]
     },
     "execution_count": 20,
     "metadata": {},
     "output_type": "execute_result"
    }
   ],
   "source": [
    "x = T.rand((12, 12))\n",
    "x = T.tensor([i if i >= .12 else 0 for i in T.flatten(x)]).reshape(x.shape)\n",
    "x.shape"
   ]
  },
  {
   "cell_type": "code",
   "execution_count": 23,
   "id": "8ec3bffc",
   "metadata": {},
   "outputs": [
    {
     "data": {
      "text/plain": [
       "tensor([5.0771, 4.5079, 4.5604, 5.0516, 6.0807, 5.7380, 7.2921, 6.9615, 5.3979,\n",
       "        5.8541, 5.8715, 6.9066])"
      ]
     },
     "execution_count": 23,
     "metadata": {},
     "output_type": "execute_result"
    }
   ],
   "source": [
    "x.sum(-1)"
   ]
  },
  {
   "cell_type": "code",
   "execution_count": 37,
   "id": "f958387f",
   "metadata": {},
   "outputs": [
    {
     "data": {
      "text/plain": [
       "(5, 2)"
      ]
     },
     "execution_count": 37,
     "metadata": {},
     "output_type": "execute_result"
    }
   ],
   "source": [
    "tuple([5,2])[:2]"
   ]
  },
  {
   "cell_type": "code",
   "execution_count": null,
   "id": "3308bc70",
   "metadata": {},
   "outputs": [],
   "source": []
  },
  {
   "cell_type": "code",
   "execution_count": null,
   "id": "430fa256",
   "metadata": {},
   "outputs": [],
   "source": []
  },
  {
   "cell_type": "code",
   "execution_count": null,
   "id": "7a4d9223",
   "metadata": {},
   "outputs": [],
   "source": []
  }
 ],
 "metadata": {
  "kernelspec": {
   "display_name": "Python 3 (ipykernel)",
   "language": "python",
   "name": "python3"
  },
  "language_info": {
   "codemirror_mode": {
    "name": "ipython",
    "version": 3
   },
   "file_extension": ".py",
   "mimetype": "text/x-python",
   "name": "python",
   "nbconvert_exporter": "python",
   "pygments_lexer": "ipython3",
   "version": "3.8.12"
  }
 },
 "nbformat": 4,
 "nbformat_minor": 5
}
